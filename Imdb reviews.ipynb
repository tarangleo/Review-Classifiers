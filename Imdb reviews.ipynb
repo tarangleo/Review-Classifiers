{
 "cells": [
  {
   "cell_type": "code",
   "execution_count": 1,
   "id": "ad73ca1d-0bb5-4406-82f8-55175ed4f438",
   "metadata": {},
   "outputs": [],
   "source": [
    "from keras.datasets import imdb"
   ]
  },
  {
   "cell_type": "code",
   "execution_count": 2,
   "id": "ef922a30-30bb-4140-a453-649ab25c5de9",
   "metadata": {},
   "outputs": [],
   "source": [
    "((XT,YT),(xt,yt))=imdb.load_data(num_words=10000)"
   ]
  },
  {
   "cell_type": "code",
   "execution_count": null,
   "id": "5a8ae4da-7b92-4f85-b4f9-acb6f7117432",
   "metadata": {},
   "outputs": [],
   "source": []
  },
  {
   "cell_type": "code",
   "execution_count": 3,
   "id": "bf3869ba-216b-4363-80d4-bd866dd54780",
   "metadata": {},
   "outputs": [],
   "source": [
    "word_idx=imdb.get_word_index()"
   ]
  },
  {
   "cell_type": "code",
   "execution_count": null,
   "id": "66491d64-eada-4576-ae88-ec9c8f8ba6c0",
   "metadata": {},
   "outputs": [],
   "source": [
    "#print(word_idx.items())"
   ]
  },
  {
   "cell_type": "code",
   "execution_count": 5,
   "id": "67fbddc6-c3dd-46db-8e3b-24062e55dfa0",
   "metadata": {},
   "outputs": [],
   "source": [
    "idx_words=dict([value,key] for (key,value) in word_idx.items())"
   ]
  },
  {
   "cell_type": "code",
   "execution_count": null,
   "id": "63da475c-4d14-49e8-96b9-9b70472ff415",
   "metadata": {},
   "outputs": [],
   "source": [
    "#idx_words.items()"
   ]
  },
  {
   "cell_type": "code",
   "execution_count": 9,
   "id": "b55756b3-c973-4ed8-b165-e3ab2dc797d4",
   "metadata": {},
   "outputs": [
    {
     "data": {
      "text/plain": [
       "\u001b[1;31mSignature:\u001b[0m \u001b[0midx_words\u001b[0m\u001b[1;33m.\u001b[0m\u001b[0mget\u001b[0m\u001b[1;33m(\u001b[0m\u001b[0mkey\u001b[0m\u001b[1;33m,\u001b[0m \u001b[0mdefault\u001b[0m\u001b[1;33m=\u001b[0m\u001b[1;32mNone\u001b[0m\u001b[1;33m,\u001b[0m \u001b[1;33m/\u001b[0m\u001b[1;33m)\u001b[0m\u001b[1;33m\u001b[0m\u001b[1;33m\u001b[0m\u001b[0m\n",
       "\u001b[1;31mDocstring:\u001b[0m Return the value for key if key is in the dictionary, else default.\n",
       "\u001b[1;31mType:\u001b[0m      builtin_function_or_method\n"
      ]
     },
     "metadata": {},
     "output_type": "display_data"
    }
   ],
   "source": [
    "idx_words.get?"
   ]
  },
  {
   "cell_type": "code",
   "execution_count": 7,
   "id": "c2daf338-f04d-4e2b-82d5-223b951bb443",
   "metadata": {},
   "outputs": [],
   "source": [
    "actual_reviews=' '.join([idx_words.get(idx-3,'?') for idx in XT[0]])"
   ]
  },
  {
   "cell_type": "code",
   "execution_count": 8,
   "id": "61bcc052-3f6f-41e6-bd0f-a2eaa3ac716e",
   "metadata": {},
   "outputs": [
    {
     "name": "stdout",
     "output_type": "stream",
     "text": [
      "? this film was just brilliant casting location scenery story direction everyone's really suited the part they played and you could just imagine being there robert ? is an amazing actor and now the same being director ? father came from the same scottish island as myself so i loved the fact there was a real connection with this film the witty remarks throughout the film were great it was just brilliant so much that i bought the film as soon as it was released for ? and would recommend it to everyone to watch and the fly fishing was amazing really cried at the end it was so sad and you know what they say if you cry at a film it must have been good and this definitely was also ? to the two little boy's that played the ? of norman and paul they were just brilliant children are often left out of the ? list i think because the stars that play them all grown up are such a big profile for the whole film but these children are amazing and should be praised for what they have done don't you think the whole story was so lovely because it was true and was someone's life after all that was shared with us all\n"
     ]
    }
   ],
   "source": [
    "print(actual_reviews)"
   ]
  },
  {
   "cell_type": "code",
   "execution_count": 12,
   "id": "b0ffc60c-bc43-4991-81dd-002ba1e05349",
   "metadata": {},
   "outputs": [],
   "source": [
    "import numpy as np"
   ]
  },
  {
   "cell_type": "code",
   "execution_count": 13,
   "id": "77b32e83-eac0-4eee-b996-76daf92f678e",
   "metadata": {},
   "outputs": [],
   "source": [
    "def vectorised(sentence,dim=10000):\n",
    "    outputs=np.zeros((len(sentence), dim))\n",
    "    for i,idx in enumerate(sentence):\n",
    "        outputs[i,idx]=1\n",
    "    return outputs\n",
    "              "
   ]
  },
  {
   "cell_type": "code",
   "execution_count": 14,
   "id": "8e31b0f7-c6e3-4a1f-b3dc-63f86d9aff9d",
   "metadata": {},
   "outputs": [],
   "source": [
    "X_train=vectorised(XT)\n",
    "X_test=vectorised(xt)"
   ]
  },
  {
   "cell_type": "code",
   "execution_count": 15,
   "id": "d1e0f3c0-4212-483e-acfd-7b58747d4635",
   "metadata": {},
   "outputs": [],
   "source": [
    "Y_train=np.asarray(YT).astype('float32')\n",
    "Y_test=np.asarray(yt).astype('float32')\n"
   ]
  },
  {
   "cell_type": "code",
   "execution_count": 16,
   "id": "b9131775-c308-4547-a4be-80dd8904f4a2",
   "metadata": {},
   "outputs": [],
   "source": [
    "from keras import models"
   ]
  },
  {
   "cell_type": "code",
   "execution_count": 17,
   "id": "9d59b0af-c991-49f6-a2ce-bd2f772bd441",
   "metadata": {},
   "outputs": [],
   "source": [
    "from keras.layers import Dense"
   ]
  },
  {
   "cell_type": "code",
   "execution_count": 18,
   "id": "d952851a-b3bb-49c8-b8e4-0b325b0081ed",
   "metadata": {},
   "outputs": [],
   "source": [
    "model=models.Sequential()"
   ]
  },
  {
   "cell_type": "code",
   "execution_count": 19,
   "id": "7edc17fb-8e33-412b-98c7-b1bd4053d4c6",
   "metadata": {},
   "outputs": [],
   "source": [
    "model.add(Dense(16,activation=\"relu\",input_shape=(10000,)))"
   ]
  },
  {
   "cell_type": "code",
   "execution_count": 20,
   "id": "b05a27e6-ffa8-4df6-89d7-9d019a57129b",
   "metadata": {},
   "outputs": [],
   "source": [
    "model.add(Dense(16,activation=\"relu\"))\n",
    "model.add(Dense(1,activation=\"sigmoid\"))"
   ]
  },
  {
   "cell_type": "code",
   "execution_count": 21,
   "id": "1164c0a4-b27c-48cc-9b42-612763b5e4a4",
   "metadata": {},
   "outputs": [],
   "source": [
    "model.compile(optimizer='rmsprop',loss='binary_crossentropy',metrics=['accuracy'])"
   ]
  },
  {
   "cell_type": "code",
   "execution_count": 22,
   "id": "95369ab7-c0d0-4eb1-9c33-843a7844a8f0",
   "metadata": {},
   "outputs": [
    {
     "name": "stdout",
     "output_type": "stream",
     "text": [
      "Model: \"sequential\"\n",
      "_________________________________________________________________\n",
      " Layer (type)                Output Shape              Param #   \n",
      "=================================================================\n",
      " dense (Dense)               (None, 16)                160016    \n",
      "                                                                 \n",
      " dense_1 (Dense)             (None, 16)                272       \n",
      "                                                                 \n",
      " dense_2 (Dense)             (None, 1)                 17        \n",
      "                                                                 \n",
      "=================================================================\n",
      "Total params: 160,305\n",
      "Trainable params: 160,305\n",
      "Non-trainable params: 0\n",
      "_________________________________________________________________\n"
     ]
    }
   ],
   "source": [
    "model.summary()"
   ]
  },
  {
   "cell_type": "code",
   "execution_count": null,
   "id": "f6464915-ae29-4bf4-b925-1823454773df",
   "metadata": {},
   "outputs": [],
   "source": []
  },
  {
   "cell_type": "code",
   "execution_count": null,
   "id": "ae92fdf3-34c7-4ebb-8095-87767597d58b",
   "metadata": {},
   "outputs": [],
   "source": []
  },
  {
   "cell_type": "markdown",
   "id": "e3d29035-b1d3-4ade-af38-f34ba37c676e",
   "metadata": {},
   "source": [
    "## Training\n"
   ]
  },
  {
   "cell_type": "code",
   "execution_count": 23,
   "id": "25112ea9-a166-4817-8e2e-059bdbf2c080",
   "metadata": {},
   "outputs": [],
   "source": [
    "X_val=X_train[:5000]\n",
    "Y_val=Y_train[:5000]\n",
    "\n",
    "X_new_train=X_train[5000:]\n",
    "Y_new_train=Y_train[5000:]\n"
   ]
  },
  {
   "cell_type": "code",
   "execution_count": 24,
   "id": "9e912ea6-373c-4550-9240-f3bf22780fdf",
   "metadata": {},
   "outputs": [
    {
     "data": {
      "text/plain": [
       "(20000, 10000)"
      ]
     },
     "execution_count": 24,
     "metadata": {},
     "output_type": "execute_result"
    }
   ],
   "source": [
    "X_new_train.shape"
   ]
  },
  {
   "cell_type": "code",
   "execution_count": 25,
   "id": "b6af0ea4-c098-4017-baa9-4765680ef264",
   "metadata": {},
   "outputs": [
    {
     "name": "stdout",
     "output_type": "stream",
     "text": [
      "Epoch 1/4\n",
      "40/40 [==============================] - 3s 55ms/step - loss: 0.5117 - accuracy: 0.8051 - val_loss: 0.3852 - val_accuracy: 0.8644\n",
      "Epoch 2/4\n",
      "40/40 [==============================] - 1s 19ms/step - loss: 0.3074 - accuracy: 0.9031 - val_loss: 0.3543 - val_accuracy: 0.8492\n",
      "Epoch 3/4\n",
      "40/40 [==============================] - 1s 18ms/step - loss: 0.2280 - accuracy: 0.9225 - val_loss: 0.3415 - val_accuracy: 0.8580\n",
      "Epoch 4/4\n",
      "40/40 [==============================] - 1s 17ms/step - loss: 0.1847 - accuracy: 0.9374 - val_loss: 0.2852 - val_accuracy: 0.8858\n"
     ]
    }
   ],
   "source": [
    "hist=model.fit(X_new_train,Y_new_train,epochs=4,batch_size=512,validation_data=(X_val,Y_val))"
   ]
  },
  {
   "cell_type": "code",
   "execution_count": 26,
   "id": "7f685a40-66d6-4d74-88f1-50e439d0c3c6",
   "metadata": {},
   "outputs": [],
   "source": [
    "import matplotlib.pyplot as plt"
   ]
  },
  {
   "cell_type": "code",
   "execution_count": 27,
   "id": "80197ec8-2757-4e8c-948d-46d012b3471f",
   "metadata": {},
   "outputs": [],
   "source": [
    "h=hist.history"
   ]
  },
  {
   "cell_type": "code",
   "execution_count": 28,
   "id": "a2e9736c-acbd-4853-a448-de6ad40ec420",
   "metadata": {},
   "outputs": [
    {
     "data": {
      "text/plain": [
       "<function matplotlib.pyplot.show(close=None, block=None)>"
      ]
     },
     "execution_count": 28,
     "metadata": {},
     "output_type": "execute_result"
    },
    {
     "data": {
      "image/png": "[encoded data removed]",
      "text/plain": [
       "<Figure size 432x288 with 1 Axes>"
      ]
     },
     "metadata": {
      "needs_background": "light"
     },
     "output_type": "display_data"
    }
   ],
   "source": [
    "plt.plot(h['val_accuracy'],label=\"Validation Accuracy\")\n",
    "plt.plot(h['accuracy'],label=\"Accuracy\")\n",
    "plt.xlabel(\"Epochs\")\n",
    "plt.ylabel(\"Accuracy\")\n",
    "plt.legend()\n",
    "plt.show"
   ]
  },
  {
   "cell_type": "code",
   "execution_count": null,
   "id": "a6ab0e98-765d-4d15-a2a1-cdf2e5d13db0",
   "metadata": {},
   "outputs": [],
   "source": []
  },
  {
   "cell_type": "code",
   "execution_count": 29,
   "id": "6d047f4d-c9d1-4a33-9dfe-e4bdcd057960",
   "metadata": {},
   "outputs": [
    {
     "name": "stdout",
     "output_type": "stream",
     "text": [
      "782/782 [==============================] - 1s 2ms/step - loss: 0.3014 - accuracy: 0.8797\n"
     ]
    },
    {
     "data": {
      "text/plain": [
       "[0.30143827199935913, 0.8797199726104736]"
      ]
     },
     "execution_count": 29,
     "metadata": {},
     "output_type": "execute_result"
    }
   ],
   "source": [
    "model.evaluate(X_test,Y_test)"
   ]
  },
  {
   "cell_type": "code",
   "execution_count": 30,
   "id": "01fb9626-fc44-4cbf-b5e3-4b8bf3d70734",
   "metadata": {},
   "outputs": [
    {
     "data": {
      "text/plain": [
       "\u001b[1;31mSignature:\u001b[0m\n",
       "\u001b[0mmodel\u001b[0m\u001b[1;33m.\u001b[0m\u001b[0mevaluate\u001b[0m\u001b[1;33m(\u001b[0m\u001b[1;33m\n",
       "\u001b[0m    \u001b[0mx\u001b[0m\u001b[1;33m=\u001b[0m\u001b[1;32mNone\u001b[0m\u001b[1;33m,\u001b[0m\u001b[1;33m\n",
       "\u001b[0m    \u001b[0my\u001b[0m\u001b[1;33m=\u001b[0m\u001b[1;32mNone\u001b[0m\u001b[1;33m,\u001b[0m\u001b[1;33m\n",
       "\u001b[0m    \u001b[0mbatch_size\u001b[0m\u001b[1;33m=\u001b[0m\u001b[1;32mNone\u001b[0m\u001b[1;33m,\u001b[0m\u001b[1;33m\n",
       "\u001b[0m    \u001b[0mverbose\u001b[0m\u001b[1;33m=\u001b[0m\u001b[1;36m1\u001b[0m\u001b[1;33m,\u001b[0m\u001b[1;33m\n",
       "\u001b[0m    \u001b[0msample_weight\u001b[0m\u001b[1;33m=\u001b[0m\u001b[1;32mNone\u001b[0m\u001b[1;33m,\u001b[0m\u001b[1;33m\n",
       "\u001b[0m    \u001b[0msteps\u001b[0m\u001b[1;33m=\u001b[0m\u001b[1;32mNone\u001b[0m\u001b[1;33m,\u001b[0m\u001b[1;33m\n",
       "\u001b[0m    \u001b[0mcallbacks\u001b[0m\u001b[1;33m=\u001b[0m\u001b[1;32mNone\u001b[0m\u001b[1;33m,\u001b[0m\u001b[1;33m\n",
       "\u001b[0m    \u001b[0mmax_queue_size\u001b[0m\u001b[1;33m=\u001b[0m\u001b[1;36m10\u001b[0m\u001b[1;33m,\u001b[0m\u001b[1;33m\n",
       "\u001b[0m    \u001b[0mworkers\u001b[0m\u001b[1;33m=\u001b[0m\u001b[1;36m1\u001b[0m\u001b[1;33m,\u001b[0m\u001b[1;33m\n",
       "\u001b[0m    \u001b[0muse_multiprocessing\u001b[0m\u001b[1;33m=\u001b[0m\u001b[1;32mFalse\u001b[0m\u001b[1;33m,\u001b[0m\u001b[1;33m\n",
       "\u001b[0m    \u001b[0mreturn_dict\u001b[0m\u001b[1;33m=\u001b[0m\u001b[1;32mFalse\u001b[0m\u001b[1;33m,\u001b[0m\u001b[1;33m\n",
       "\u001b[0m    \u001b[1;33m**\u001b[0m\u001b[0mkwargs\u001b[0m\u001b[1;33m,\u001b[0m\u001b[1;33m\n",
       "\u001b[0m\u001b[1;33m)\u001b[0m\u001b[1;33m\u001b[0m\u001b[1;33m\u001b[0m\u001b[0m\n",
       "\u001b[1;31mDocstring:\u001b[0m\n",
       "Returns the loss value & metrics values for the model in test mode.\n",
       "\n",
       "Computation is done in batches (see the `batch_size` arg.)\n",
       "\n",
       "Args:\n",
       "    x: Input data. It could be:\n",
       "      - A Numpy array (or array-like), or a list of arrays\n",
       "        (in case the model has multiple inputs).\n",
       "      - A TensorFlow tensor, or a list of tensors\n",
       "        (in case the model has multiple inputs).\n",
       "      - A dict mapping input names to the corresponding array/tensors,\n",
       "        if the model has named inputs.\n",
       "      - A `tf.data` dataset. Should return a tuple\n",
       "        of either `(inputs, targets)` or\n",
       "        `(inputs, targets, sample_weights)`.\n",
       "      - A generator or `keras.utils.Sequence` returning `(inputs, targets)`\n",
       "        or `(inputs, targets, sample_weights)`.\n",
       "      A more detailed description of unpacking behavior for iterator types\n",
       "      (Dataset, generator, Sequence) is given in the `Unpacking behavior\n",
       "      for iterator-like inputs` section of `Model.fit`.\n",
       "    y: Target data. Like the input data `x`, it could be either Numpy\n",
       "      array(s) or TensorFlow tensor(s). It should be consistent with `x`\n",
       "      (you cannot have Numpy inputs and tensor targets, or inversely). If\n",
       "      `x` is a dataset, generator or `keras.utils.Sequence` instance, `y`\n",
       "      should not be specified (since targets will be obtained from the\n",
       "      iterator/dataset).\n",
       "    batch_size: Integer or `None`. Number of samples per batch of\n",
       "      computation. If unspecified, `batch_size` will default to 32. Do not\n",
       "      specify the `batch_size` if your data is in the form of a dataset,\n",
       "      generators, or `keras.utils.Sequence` instances (since they generate\n",
       "      batches).\n",
       "    verbose: 0 or 1. Verbosity mode. 0 = silent, 1 = progress bar.\n",
       "    sample_weight: Optional Numpy array of weights for the test samples,\n",
       "      used for weighting the loss function. You can either pass a flat (1D)\n",
       "      Numpy array with the same length as the input samples\n",
       "        (1:1 mapping between weights and samples), or in the case of\n",
       "          temporal data, you can pass a 2D array with shape `(samples,\n",
       "          sequence_length)`, to apply a different weight to every timestep\n",
       "          of every sample. This argument is not supported when `x` is a\n",
       "          dataset, instead pass sample weights as the third element of `x`.\n",
       "    steps: Integer or `None`. Total number of steps (batches of samples)\n",
       "      before declaring the evaluation round finished. Ignored with the\n",
       "      default value of `None`. If x is a `tf.data` dataset and `steps` is\n",
       "      None, 'evaluate' will run until the dataset is exhausted. This\n",
       "      argument is not supported with array inputs.\n",
       "    callbacks: List of `keras.callbacks.Callback` instances. List of\n",
       "      callbacks to apply during evaluation. See\n",
       "      [callbacks](/api_docs/python/tf/keras/callbacks).\n",
       "    max_queue_size: Integer. Used for generator or `keras.utils.Sequence`\n",
       "      input only. Maximum size for the generator queue. If unspecified,\n",
       "      `max_queue_size` will default to 10.\n",
       "    workers: Integer. Used for generator or `keras.utils.Sequence` input\n",
       "      only. Maximum number of processes to spin up when using process-based\n",
       "      threading. If unspecified, `workers` will default to 1.\n",
       "    use_multiprocessing: Boolean. Used for generator or\n",
       "      `keras.utils.Sequence` input only. If `True`, use process-based\n",
       "      threading. If unspecified, `use_multiprocessing` will default to\n",
       "      `False`. Note that because this implementation relies on\n",
       "      multiprocessing, you should not pass non-picklable arguments to the\n",
       "      generator as they can't be passed easily to children processes.\n",
       "    return_dict: If `True`, loss and metric results are returned as a dict,\n",
       "      with each key being the name of the metric. If `False`, they are\n",
       "      returned as a list.\n",
       "    **kwargs: Unused at this time.\n",
       "\n",
       "See the discussion of `Unpacking behavior for iterator-like inputs` for\n",
       "`Model.fit`.\n",
       "\n",
       "Returns:\n",
       "    Scalar test loss (if the model has a single output and no metrics)\n",
       "    or list of scalars (if the model has multiple outputs\n",
       "    and/or metrics). The attribute `model.metrics_names` will give you\n",
       "    the display labels for the scalar outputs.\n",
       "\n",
       "Raises:\n",
       "    RuntimeError: If `model.evaluate` is wrapped in a `tf.function`.\n",
       "\u001b[1;31mFile:\u001b[0m      c:\\users\\taran\\appdata\\local\\programs\\python\\python39\\lib\\site-packages\\keras\\engine\\training.py\n",
       "\u001b[1;31mType:\u001b[0m      method\n"
      ]
     },
     "metadata": {},
     "output_type": "display_data"
    }
   ],
   "source": [
    "model.evaluate?"
   ]
  },
  {
   "cell_type": "code",
   "execution_count": null,
   "id": "d8361d2d-c772-4859-b43d-0bd011121fa5",
   "metadata": {},
   "outputs": [],
   "source": []
  }
 ],
 "metadata": {
  "kernelspec": {
   "display_name": "Python 3 (ipykernel)",
   "language": "python",
   "name": "python3"
  },
  "language_info": {
   "codemirror_mode": {
    "name": "ipython",
    "version": 3
   },
   "file_extension": ".py",
   "mimetype": "text/x-python",
   "name": "python",
   "nbconvert_exporter": "python",
   "pygments_lexer": "ipython3",
   "version": "3.9.7"
  }
 },
 "nbformat": 4,
 "nbformat_minor": 5
}
